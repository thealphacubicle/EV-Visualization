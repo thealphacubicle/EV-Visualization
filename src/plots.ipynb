{
 "cells": [
  {
   "cell_type": "code",
   "execution_count": null,
   "id": "83911c26",
   "metadata": {},
   "outputs": [],
   "source": [
    "# Importing libraries\n",
    "import pandas as pd\n",
    "import altair as alt\n",
    "import seaborn as sns\n",
    "import matplotlib.pyplot as plt\n",
    "import geopandas as gpd\n",
    "import plotly.graph_objects as go\n",
    "import folium\n",
    "from folium import IFrame\n",
    "from folium.plugins import MarkerCluster\n",
    "from folium.plugins import FastMarkerCluster\n",
    "from shapely.geometry import Point\n",
    "import plotly.express as px\n",
    "import re\n",
    "alt.data_transformers.enable(\"vegafusion\")\n",
    "alt.data_transformers.disable_max_rows()"
   ]
  },
  {
   "cell_type": "code",
   "execution_count": null,
   "id": "99827ea4",
   "metadata": {},
   "outputs": [],
   "source": [
    "# Reading csv file into df\n",
    "df = pd.read_csv(\"../data/Electric_Vehicle_Population_Data.csv\")"
   ]
  },
  {
   "cell_type": "code",
   "execution_count": null,
   "id": "c9a3636b",
   "metadata": {},
   "outputs": [],
   "source": [
    "# Printing first 5 rows of df\n",
    "df.head()"
   ]
  },
  {
   "cell_type": "code",
   "execution_count": null,
   "id": "76eb805e",
   "metadata": {},
   "outputs": [],
   "source": [
    "# Filtering the df to include only rows where the 'State' column is 'WA'\n",
    "df = df[df['State'] == 'WA']"
   ]
  },
  {
   "cell_type": "markdown",
   "id": "e1a2ac9d",
   "metadata": {},
   "source": [
    "## Visualization 1 - Map Chart"
   ]
  },
  {
   "cell_type": "code",
   "execution_count": null,
   "id": "e7b4fcde",
   "metadata": {},
   "outputs": [],
   "source": [
    "# Data extraction function\n",
    "def extract_coordinates(point_str):\n",
    "    if isinstance(point_str, str):\n",
    "        # Removing 'POINT (' and ')' and splitting by space\n",
    "        coords = point_str.replace('POINT (', '').replace(')', '').split()\n",
    "        return float(coords[1]), float(coords[0])  # Note: coords are in order of latitude, longitude\n",
    "    return None, None\n",
    "\n",
    "# Applying extraction function and dropping nulls\n",
    "df['Latitude'], df['Longitude'] = zip(*df['Vehicle Location'].apply(extract_coordinates))\n",
    "df = df.dropna(subset=['Latitude', 'Longitude'])\n",
    "\n",
    "# Grouping by location to find unique points\n",
    "grouped = df.groupby(['Latitude', 'Longitude'])\n",
    "\n",
    "# Creating a new Folium map\n",
    "m = folium.Map(location=[df['Latitude'].mean(), df['Longitude'].mean()], zoom_start=6)\n",
    "\n",
    "# Adding title\n",
    "title_html = '''\n",
    "             <h3 align=\"center\" style=\"font-size:20px\"><b>Geographic Distribution of EV Registrations in WA</b></h3>\n",
    "             '''\n",
    "m.get_root().html.add_child(folium.Element(title_html))\n",
    "\n",
    "# Creating a MarkerCluster object\n",
    "marker_cluster = MarkerCluster().add_to(m)\n",
    "\n",
    "# Adding summarized markers to the cluster\n",
    "for (lat, lon), group in grouped:\n",
    "    # Getting the most common county name in the group\n",
    "    county_name = group['County'].mode()[0]\n",
    "\n",
    "    # Getting the top 5 makes and models\n",
    "    top_makes_models = group.groupby(['Make', 'Model']).size().nlargest(5).reset_index(name='Count')\n",
    "\n",
    "    # Summary string for the popup\n",
    "    summary_str = \"<br>\".join([f\"<b>{row['Make']} {row['Model']}:</b> {row['Count']}\" for index, row in top_makes_models.iterrows()])\n",
    "    \n",
    "    # Content for the popup\n",
    "    popup_content = f\"\"\"<div style=\"width:300px; max-height:200px; overflow:auto;\">\n",
    "                            <b>County:</b> {county_name}<br>\n",
    "                            <b>Total cars:</b> {len(group)}<br><br>\n",
    "                            <b>Top Makes and Models:</b><br><br>\n",
    "                            {summary_str}\n",
    "                        </div>\n",
    "                    \"\"\"\n",
    "    \n",
    "    # Creating and adding the marker to the cluster\n",
    "    folium.Marker(\n",
    "        location=[lat, lon],\n",
    "        popup=popup_content\n",
    "    ).add_to(marker_cluster)\n",
    "\n",
    "# Outputting chart\n",
    "m"
   ]
  },
  {
   "cell_type": "code",
   "execution_count": null,
   "id": "734c5a50",
   "metadata": {},
   "outputs": [],
   "source": [
    "# Saving the map to an HTML file\n",
    "m.save('map_chart.html')"
   ]
  },
  {
   "cell_type": "markdown",
   "id": "4d93fdd1",
   "metadata": {},
   "source": [
    "## Visualization 2 - Line Chart"
   ]
  },
  {
   "cell_type": "code",
   "execution_count": null,
   "id": "297806ec",
   "metadata": {},
   "outputs": [],
   "source": [
    "# Converting 'Model Year' to a string to prevent it from being treated as a continuous quantity\n",
    "df['Model Year'] = df['Model Year'].astype(str)\n",
    "\n",
    "# Aggregating the data to count registrations per year per EV type\n",
    "agg_data = df.groupby(['Model Year', 'Electric Vehicle Type']).size().reset_index(name='Registrations')\n",
    "\n",
    "# Creating the line chart\n",
    "line_chart = alt.Chart(agg_data).mark_line(point=True).encode(\n",
    "    x=alt.X('Model Year:O', axis=alt.Axis(title='Model Year')),\n",
    "    y=alt.Y('Registrations:Q', axis=alt.Axis(title='Number of Registrations')),\n",
    "    color='Electric Vehicle Type:N',\n",
    "    tooltip=['Model Year', 'Electric Vehicle Type', 'Registrations']\n",
    ").interactive().properties(\n",
    "    title='Trend of Electric Vehicle Registrations by Type',\n",
    "    width=400,\n",
    "    height=300\n",
    ")\n",
    "\n",
    "\n",
    "# Outputting chart\n",
    "line_chart"
   ]
  },
  {
   "cell_type": "code",
   "execution_count": null,
   "id": "205271fe",
   "metadata": {},
   "outputs": [],
   "source": [
    "# Saving chart to html\n",
    "line_chart.save('line_chart.html')"
   ]
  },
  {
   "cell_type": "markdown",
   "id": "01d3f7b3",
   "metadata": {},
   "source": [
    "## Visualization 3 - Stacked Bar Chart"
   ]
  },
  {
   "cell_type": "code",
   "execution_count": null,
   "id": "70c60772",
   "metadata": {},
   "outputs": [],
   "source": [
    "# Grouping and aggregating the data to count makes within each vehicle type\n",
    "make_counts = df.groupby(['Make', 'Electric Vehicle Type']).size().reset_index(name='Count')\n",
    "\n",
    "# Calculating the total count for each make regardless of the vehicle type\n",
    "total_counts = make_counts.groupby('Make')['Count'].sum().reset_index()\n",
    "\n",
    "# Getting the top 10 makes by total count\n",
    "top_makes = total_counts.nlargest(10, 'Count')['Make']\n",
    "\n",
    "# Filtering the original make_counts to only include the top 10 makes\n",
    "top_make_counts = make_counts[make_counts['Make'].isin(top_makes)]\n",
    "\n",
    "# Creating the stacked bar chart with 'Electric Vehicle Type' on the x-axis\n",
    "stacked_bar_chart = alt.Chart(top_make_counts).mark_bar().encode(\n",
    "    x=alt.X('Electric Vehicle Type:N', title='Electric Vehicle Type'),\n",
    "    y=alt.Y('sum(Count):Q', title='Number of Vehicles', stack='zero'),\n",
    "    color=alt.Color('Make:N', \n",
    "                    title='Make',\n",
    "                    scale=alt.Scale(scheme='tableau20')),  # Use a 20-color scheme for distinction\n",
    "    order=alt.Order('sum(Count):Q', sort='descending'),  # Order the segments by size\n",
    "    tooltip=[alt.Tooltip('Make:N', title='Make'),\n",
    "             alt.Tooltip('Electric Vehicle Type:N', title='Vehicle Type'),\n",
    "             alt.Tooltip('sum(Count):Q', title='Number of Vehicles')]\n",
    ").properties(\n",
    "    width=600,\n",
    "    height=400,\n",
    "    title='Market Share by Make within Electric Vehicle Types'\n",
    ")\n",
    "\n",
    "# Outputting chart\n",
    "stacked_bar_chart"
   ]
  },
  {
   "cell_type": "code",
   "execution_count": null,
   "id": "f62a7e11",
   "metadata": {},
   "outputs": [],
   "source": [
    "# Saving chart to html\n",
    "stacked_bar_chart.save('stacked_bar_chart.html')"
   ]
  },
  {
   "cell_type": "markdown",
   "id": "5b0af769",
   "metadata": {},
   "source": [
    "## Visualization 4 - Bar Chart"
   ]
  },
  {
   "cell_type": "code",
   "execution_count": null,
   "id": "9917381a",
   "metadata": {},
   "outputs": [],
   "source": [
    "# Getting count of utility firms\n",
    "counts = df['Electric Utility'].value_counts().reset_index()\n",
    "counts.columns = ['Electric Utility', 'Count']  # Renaming columns appropriately\n",
    "counts = counts.sort_values(by='Count', ascending=False).head(10)  # Ensuring it's sorted in descending order\n",
    "\n",
    "# Creating bar chart with tool tip\n",
    "bar_chart = alt.Chart(counts).mark_bar().encode(\n",
    "    x=alt.X('Electric Utility:N', sort='-y'),  \n",
    "    y=alt.Y('Count:Q'),  \n",
    "    color=alt.Color('Count:Q'),\n",
    "    tooltip=['Electric Utility', 'Count']  \n",
    ").properties(\n",
    "    width=800,  \n",
    "    height=400,  \n",
    "    title='Top 10 Electric Utility Firms Used in WA')\n",
    "\n",
    "# Outputting chart\n",
    "bar_chart"
   ]
  },
  {
   "cell_type": "code",
   "execution_count": null,
   "id": "727cce79",
   "metadata": {},
   "outputs": [],
   "source": [
    "# Saving chart as png\n",
    "bar_chart.save('bar_chart.png')"
   ]
  }
 ],
 "metadata": {
  "kernelspec": {
   "display_name": "Python 3 (ipykernel)",
   "language": "python",
   "name": "python3"
  },
  "language_info": {
   "codemirror_mode": {
    "name": "ipython",
    "version": 3
   },
   "file_extension": ".py",
   "mimetype": "text/x-python",
   "name": "python",
   "nbconvert_exporter": "python",
   "pygments_lexer": "ipython3",
   "version": "3.9.13"
  },
  "toc": {
   "base_numbering": 1,
   "nav_menu": {},
   "number_sections": true,
   "sideBar": true,
   "skip_h1_title": false,
   "title_cell": "Table of Contents",
   "title_sidebar": "Contents",
   "toc_cell": false,
   "toc_position": {},
   "toc_section_display": true,
   "toc_window_display": false
  }
 },
 "nbformat": 4,
 "nbformat_minor": 5
}
