{
 "cells": [
  {
   "cell_type": "code",
   "execution_count": null,
   "id": "da499e19",
   "metadata": {},
   "outputs": [],
   "source": [
    "# Importing libraries\n",
    "import pandas as pd\n",
    "import altair as alt\n",
    "import seaborn as sns\n",
    "import matplotlib.pyplot as plt\n",
    "import geopandas as gpd\n",
    "import plotly.graph_objects as go\n",
    "import folium\n",
    "from folium.plugins import MarkerCluster\n",
    "from shapely.geometry import Point\n",
    "import plotly.express as px\n",
    "import re\n",
    "import time\n",
    "alt.data_transformers.enable(\"vegafusion\")\n",
    "alt.data_transformers.disable_max_rows()"
   ]
  },
  {
   "cell_type": "code",
   "execution_count": null,
   "id": "e8b0bd4b",
   "metadata": {},
   "outputs": [],
   "source": [
    "df = pd.read_csv(\"/Users/jaigollapudi/Downloads/EV-Visualization/data/Electric_Vehicle_Population_Data.csv\")\n",
    "\n",
    "# Filtering the DataFrame to include only rows where the 'State' column is 'WA'\n",
    "df = df[df['State'] == 'WA']"
   ]
  },
  {
   "cell_type": "markdown",
   "id": "9dfcae39",
   "metadata": {},
   "source": [
    "## Visualization 1 - Map Chart"
   ]
  },
  {
   "cell_type": "code",
   "execution_count": null,
   "id": "a303894a",
   "metadata": {},
   "outputs": [],
   "source": [
    "# Sample data extraction function\n",
    "def extract_coordinates(point_str):\n",
    "    if isinstance(point_str, str):\n",
    "        # Remove 'POINT (' and ')' and split by space\n",
    "        coords = point_str.replace('POINT (', '').replace(')', '').split()\n",
    "        return float(coords[1]), float(coords[0])  # Note: coords are in order of latitude, longitude\n",
    "    return None, None\n",
    "\n",
    "# Assuming df is your DataFrame and 'Vehicle Location' contains the Point data\n",
    "df['Latitude'], df['Longitude'] = zip(*df['Vehicle Location'].apply(extract_coordinates))\n",
    "df = df.dropna(subset=['Latitude', 'Longitude'])\n",
    "\n",
    "# Create a new Folium map\n",
    "m = folium.Map(location=[df['Latitude'].mean(), df['Longitude'].mean()], zoom_start=6)\n",
    "\n",
    "# Create a MarkerCluster object\n",
    "marker_cluster = MarkerCluster().add_to(m)\n",
    "\n",
    "# Add markers to the cluster instead of the map\n",
    "for idx, row in df.iterrows():\n",
    "    popup_content = f\"{row['Make']} {row['Model']} ({row['Model Year']})\"\n",
    "    folium.Marker(\n",
    "        location=[row['Latitude'], row['Longitude']],\n",
    "        popup=popup_content\n",
    "    ).add_to(marker_cluster)"
   ]
  },
  {
   "cell_type": "code",
   "execution_count": null,
   "id": "e5cf6a96",
   "metadata": {},
   "outputs": [],
   "source": [
    "# Save the map to an HTML file\n",
    "m.save('map_chart.html')"
   ]
  },
  {
   "cell_type": "markdown",
   "id": "74c0ba51",
   "metadata": {},
   "source": [
    "## Visualization 2 - Line Chart"
   ]
  },
  {
   "cell_type": "code",
   "execution_count": null,
   "id": "09f4c419",
   "metadata": {},
   "outputs": [],
   "source": [
    "# Converting 'Model Year' to a string to prevent it from being treated as a continuous quantity\n",
    "df['Model Year'] = df['Model Year'].astype(str)\n",
    "\n",
    "# Aggregating the data to count registrations per year per EV type\n",
    "agg_data = df.groupby(['Model Year', 'Electric Vehicle Type']).size().reset_index(name='Registrations')\n",
    "\n",
    "# Creating the line chart\n",
    "line_chart = alt.Chart(agg_data).mark_line(point=True).encode(\n",
    "    x=alt.X('Model Year:O', axis=alt.Axis(title='Model Year')),\n",
    "    y=alt.Y('Registrations:Q', axis=alt.Axis(title='Number of Registrations')),\n",
    "    color='Electric Vehicle Type:N',\n",
    "    tooltip=['Model Year', 'Electric Vehicle Type', 'Registrations']\n",
    ").interactive().properties(\n",
    "    title='Trend of Electric Vehicle Registrations by Type',\n",
    "    width=400,\n",
    "    height=300\n",
    ")\n",
    "\n",
    "\n",
    "# Outputting chart\n",
    "line_chart"
   ]
  },
  {
   "cell_type": "code",
   "execution_count": null,
   "id": "309ce17e",
   "metadata": {},
   "outputs": [],
   "source": [
    "# Saving chart to html\n",
    "line_chart.save('line_chart.html')"
   ]
  },
  {
   "cell_type": "markdown",
   "id": "b7734667",
   "metadata": {},
   "source": [
    "## Visualization 3 - Stacked Bar Chart"
   ]
  },
  {
   "cell_type": "code",
   "execution_count": null,
   "id": "8df5225a",
   "metadata": {},
   "outputs": [],
   "source": [
    "# Group and aggregate the data to count makes within each vehicle type\n",
    "make_counts = df.groupby(['Make', 'Electric Vehicle Type']).size().reset_index(name='Count')\n",
    "\n",
    "# Calculate the total count for each make regardless of the vehicle type\n",
    "total_counts = make_counts.groupby('Make')['Count'].sum().reset_index()\n",
    "\n",
    "# Get the top 10 makes by total count\n",
    "top_makes = total_counts.nlargest(10, 'Count')['Make']\n",
    "\n",
    "# Filter the original make_counts to only include the top 10 makes\n",
    "top_make_counts = make_counts[make_counts['Make'].isin(top_makes)]\n",
    "\n",
    "# Create the stacked bar chart with 'Electric Vehicle Type' on the x-axis\n",
    "stacked_bar_chart = alt.Chart(top_make_counts).mark_bar().encode(\n",
    "    x=alt.X('Electric Vehicle Type:N', title='Electric Vehicle Type'),\n",
    "    y=alt.Y('sum(Count):Q', title='Number of Vehicles', stack='zero'),\n",
    "    color=alt.Color('Make:N', \n",
    "                    title='Make',\n",
    "                    scale=alt.Scale(scheme='tableau20')),  # Use a 20-color scheme for distinction\n",
    "    order=alt.Order('sum(Count):Q', sort='descending'),  # Order the segments by size\n",
    "    tooltip=[alt.Tooltip('Make:N', title='Make'),\n",
    "             alt.Tooltip('Electric Vehicle Type:N', title='Vehicle Type'),\n",
    "             alt.Tooltip('sum(Count):Q', title='Number of Vehicles')]\n",
    ").properties(\n",
    "    width=600,\n",
    "    height=400,\n",
    "    title='Market Share by Make within Electric Vehicle Types'\n",
    ")\n",
    "\n",
    "stacked_bar_chart"
   ]
  },
  {
   "cell_type": "code",
   "execution_count": null,
   "id": "0e6a949f",
   "metadata": {},
   "outputs": [],
   "source": [
    "# Saving chart to html\n",
    "stacked_bar_chart.save('stacked_bar_chart.html')"
   ]
  },
  {
   "cell_type": "markdown",
   "id": "4e557421",
   "metadata": {},
   "source": [
    "## Visualization 4 - Bar Chart"
   ]
  },
  {
   "cell_type": "code",
   "execution_count": null,
   "id": "99aa044c",
   "metadata": {},
   "outputs": [],
   "source": [
    "counts = df['Electric Utility'].value_counts().reset_index()\n",
    "counts.columns = ['Electric Utility', 'Count']  # Rename columns appropriately\n",
    "counts = counts.sort_values(by='Count', ascending=False).head(10)  # Ensure it's sorted in descending order\n",
    "\n",
    "bar_chart = alt.Chart(counts).mark_bar().encode(\n",
    "    x=alt.X('Electric Utility:N', sort='-y'),  # Specify nominal data and sort bars based on the counts in descending order\n",
    "    y=alt.Y('Count:Q'),  # Quantitative scale for counts\n",
    "    color=alt.Color('Count:Q'),\n",
    "    tooltip=['Electric Utility', 'Count']  # Optional: show tooltip on hover\n",
    ").properties(\n",
    "    width=800,  # Adjust the width as needed\n",
    "    height=400,  # Adjust the height as needed\n",
    "    title='Top 10 Electric Utility Firms Used in WA')\n",
    "\n",
    "bar_chart"
   ]
  },
  {
   "cell_type": "code",
   "execution_count": null,
   "id": "4fd854e4",
   "metadata": {},
   "outputs": [],
   "source": [
    "# Saving chart to html\n",
    "bar_chart.save('bar_chart.png')"
   ]
  },
  {
   "cell_type": "markdown",
   "id": "0c36480d",
   "metadata": {},
   "source": [
    "## Visualization 5"
   ]
  },
  {
   "cell_type": "code",
   "execution_count": null,
   "id": "cec890fb",
   "metadata": {},
   "outputs": [],
   "source": []
  }
 ],
 "metadata": {
  "kernelspec": {
   "display_name": "Python 3 (ipykernel)",
   "language": "python",
   "name": "python3"
  },
  "language_info": {
   "codemirror_mode": {
    "name": "ipython",
    "version": 3
   },
   "file_extension": ".py",
   "mimetype": "text/x-python",
   "name": "python",
   "nbconvert_exporter": "python",
   "pygments_lexer": "ipython3",
   "version": "3.9.13"
  },
  "toc": {
   "base_numbering": 1,
   "nav_menu": {},
   "number_sections": true,
   "sideBar": true,
   "skip_h1_title": false,
   "title_cell": "Table of Contents",
   "title_sidebar": "Contents",
   "toc_cell": false,
   "toc_position": {},
   "toc_section_display": true,
   "toc_window_display": false
  }
 },
 "nbformat": 4,
 "nbformat_minor": 5
}
